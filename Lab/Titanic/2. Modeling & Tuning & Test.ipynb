{
 "cells": [
  {
   "cell_type": "code",
   "execution_count": 1,
   "metadata": {
    "collapsed": true
   },
   "outputs": [],
   "source": [
    "import numpy as np\n",
    "import pandas as pd\n",
    "import matplotlib.pyplot as plt\n",
    "from sklearn.linear_model import LogisticRegression\n",
    "from sklearn.naive_bayes import BernoulliNB, MultinomialNB, GaussianNB\n",
    "from sklearn.model_selection import train_test_split, KFold, cross_val_score, GridSearchCV\n",
    "from sklearn.metrics import roc_curve, roc_auc_score, classification_report, confusion_matrix\n",
    "%matplotlib inline"
   ]
  },
  {
   "cell_type": "markdown",
   "metadata": {},
   "source": [
    "# Modeling #1 flow :\n",
    "\n",
    "   ### Cross Validation -> Model Performance 측정 -> Model Tuning -> Test 데이터 모델 적용 후 Kaggle 제출\n",
    "\n",
    "* 각 모델 별 Cross Validation 성능 확인 후 성능 좋은 모델 선택\n",
    "    * Multinomial NB\n",
    "    * Bernoulli NB\n",
    "    * Gaussian NB\n",
    "    * LogisticRegression\n",
    "\n",
    "\n",
    "* Performance 측정\n",
    "    * ROC Curve\n",
    "    * ROC-AUC Area\n",
    "    * Accuracy\n",
    "    * Classification Report(precision, Recall, F1-Score)\n",
    "\n",
    "\n",
    "* GridSearch 이용 -> Parameter 튜닝\n",
    "\n",
    "* Test Data 모델 적용 -> Kaggle 제출"
   ]
  },
  {
   "cell_type": "code",
   "execution_count": 2,
   "metadata": {},
   "outputs": [
    {
     "data": {
      "text/html": [
       "<div>\n",
       "<style>\n",
       "    .dataframe thead tr:only-child th {\n",
       "        text-align: right;\n",
       "    }\n",
       "\n",
       "    .dataframe thead th {\n",
       "        text-align: left;\n",
       "    }\n",
       "\n",
       "    .dataframe tbody tr th {\n",
       "        vertical-align: top;\n",
       "    }\n",
       "</style>\n",
       "<table border=\"1\" class=\"dataframe\">\n",
       "  <thead>\n",
       "    <tr style=\"text-align: right;\">\n",
       "      <th></th>\n",
       "      <th>Parch</th>\n",
       "      <th>Embarked_C</th>\n",
       "      <th>Embarked_S</th>\n",
       "      <th>Embarked_Q</th>\n",
       "      <th>First_Class</th>\n",
       "      <th>Second Class</th>\n",
       "      <th>Third Class</th>\n",
       "      <th>Age_adult</th>\n",
       "      <th>Age_children</th>\n",
       "      <th>Age_senior</th>\n",
       "      <th>Age_teenage</th>\n",
       "      <th>Male</th>\n",
       "      <th>Female</th>\n",
       "    </tr>\n",
       "  </thead>\n",
       "  <tbody>\n",
       "    <tr>\n",
       "      <th>0</th>\n",
       "      <td>0.0</td>\n",
       "      <td>0.0</td>\n",
       "      <td>0.0</td>\n",
       "      <td>5.0</td>\n",
       "      <td>0.0</td>\n",
       "      <td>0.0</td>\n",
       "      <td>5.0</td>\n",
       "      <td>5.0</td>\n",
       "      <td>0.0</td>\n",
       "      <td>0.0</td>\n",
       "      <td>0.0</td>\n",
       "      <td>0.0</td>\n",
       "      <td>5.0</td>\n",
       "    </tr>\n",
       "    <tr>\n",
       "      <th>1</th>\n",
       "      <td>0.0</td>\n",
       "      <td>5.0</td>\n",
       "      <td>0.0</td>\n",
       "      <td>0.0</td>\n",
       "      <td>5.0</td>\n",
       "      <td>0.0</td>\n",
       "      <td>0.0</td>\n",
       "      <td>5.0</td>\n",
       "      <td>0.0</td>\n",
       "      <td>0.0</td>\n",
       "      <td>0.0</td>\n",
       "      <td>5.0</td>\n",
       "      <td>0.0</td>\n",
       "    </tr>\n",
       "    <tr>\n",
       "      <th>2</th>\n",
       "      <td>0.0</td>\n",
       "      <td>0.0</td>\n",
       "      <td>0.0</td>\n",
       "      <td>5.0</td>\n",
       "      <td>0.0</td>\n",
       "      <td>0.0</td>\n",
       "      <td>5.0</td>\n",
       "      <td>5.0</td>\n",
       "      <td>0.0</td>\n",
       "      <td>0.0</td>\n",
       "      <td>0.0</td>\n",
       "      <td>5.0</td>\n",
       "      <td>0.0</td>\n",
       "    </tr>\n",
       "    <tr>\n",
       "      <th>3</th>\n",
       "      <td>0.0</td>\n",
       "      <td>0.0</td>\n",
       "      <td>0.0</td>\n",
       "      <td>5.0</td>\n",
       "      <td>5.0</td>\n",
       "      <td>0.0</td>\n",
       "      <td>0.0</td>\n",
       "      <td>5.0</td>\n",
       "      <td>0.0</td>\n",
       "      <td>0.0</td>\n",
       "      <td>0.0</td>\n",
       "      <td>5.0</td>\n",
       "      <td>0.0</td>\n",
       "    </tr>\n",
       "    <tr>\n",
       "      <th>4</th>\n",
       "      <td>0.0</td>\n",
       "      <td>0.0</td>\n",
       "      <td>0.0</td>\n",
       "      <td>5.0</td>\n",
       "      <td>0.0</td>\n",
       "      <td>0.0</td>\n",
       "      <td>5.0</td>\n",
       "      <td>5.0</td>\n",
       "      <td>0.0</td>\n",
       "      <td>0.0</td>\n",
       "      <td>0.0</td>\n",
       "      <td>0.0</td>\n",
       "      <td>5.0</td>\n",
       "    </tr>\n",
       "  </tbody>\n",
       "</table>\n",
       "</div>"
      ],
      "text/plain": [
       "   Parch  Embarked_C  Embarked_S  Embarked_Q  First_Class  Second Class  \\\n",
       "0    0.0         0.0         0.0         5.0          0.0           0.0   \n",
       "1    0.0         5.0         0.0         0.0          5.0           0.0   \n",
       "2    0.0         0.0         0.0         5.0          0.0           0.0   \n",
       "3    0.0         0.0         0.0         5.0          5.0           0.0   \n",
       "4    0.0         0.0         0.0         5.0          0.0           0.0   \n",
       "\n",
       "   Third Class  Age_adult  Age_children  Age_senior  Age_teenage  Male  Female  \n",
       "0          5.0        5.0           0.0         0.0          0.0   0.0     5.0  \n",
       "1          0.0        5.0           0.0         0.0          0.0   5.0     0.0  \n",
       "2          5.0        5.0           0.0         0.0          0.0   5.0     0.0  \n",
       "3          0.0        5.0           0.0         0.0          0.0   5.0     0.0  \n",
       "4          5.0        5.0           0.0         0.0          0.0   0.0     5.0  "
      ]
     },
     "execution_count": 2,
     "metadata": {},
     "output_type": "execute_result"
    }
   ],
   "source": [
    "# 데이터 불러오기\n",
    "\n",
    "train_df = pd.read_csv(\"train.csv\")\n",
    "test_df = pd.read_csv(\"test.csv\")\n",
    "Big_df = pd.read_pickle('save_preprocessing_1.pkl')\n",
    "Big_df.head()"
   ]
  },
  {
   "cell_type": "code",
   "execution_count": 3,
   "metadata": {
    "collapsed": true
   },
   "outputs": [],
   "source": [
    "# Big_df : Train, Test 데이터로 나누기\n",
    "\n",
    "final_train_df = Big_df.iloc[:train_df.shape[0]]\n",
    "target = train_df['Survived']\n",
    "final_test_df = Big_df.iloc[train_df.shape[0]:]\n",
    "final_test_df.index = test_df.index"
   ]
  },
  {
   "cell_type": "code",
   "execution_count": 4,
   "metadata": {},
   "outputs": [
    {
     "data": {
      "text/html": [
       "<div>\n",
       "<style>\n",
       "    .dataframe thead tr:only-child th {\n",
       "        text-align: right;\n",
       "    }\n",
       "\n",
       "    .dataframe thead th {\n",
       "        text-align: left;\n",
       "    }\n",
       "\n",
       "    .dataframe tbody tr th {\n",
       "        vertical-align: top;\n",
       "    }\n",
       "</style>\n",
       "<table border=\"1\" class=\"dataframe\">\n",
       "  <thead>\n",
       "    <tr style=\"text-align: right;\">\n",
       "      <th></th>\n",
       "      <th>Parch</th>\n",
       "      <th>Embarked_C</th>\n",
       "      <th>Embarked_S</th>\n",
       "      <th>Embarked_Q</th>\n",
       "      <th>First_Class</th>\n",
       "      <th>Second Class</th>\n",
       "      <th>Third Class</th>\n",
       "      <th>Age_adult</th>\n",
       "      <th>Age_children</th>\n",
       "      <th>Age_senior</th>\n",
       "      <th>Age_teenage</th>\n",
       "      <th>Male</th>\n",
       "      <th>Female</th>\n",
       "    </tr>\n",
       "  </thead>\n",
       "  <tbody>\n",
       "    <tr>\n",
       "      <th>0</th>\n",
       "      <td>0.0</td>\n",
       "      <td>0.0</td>\n",
       "      <td>0.0</td>\n",
       "      <td>5.0</td>\n",
       "      <td>0.0</td>\n",
       "      <td>0.0</td>\n",
       "      <td>5.0</td>\n",
       "      <td>5.0</td>\n",
       "      <td>0.0</td>\n",
       "      <td>0.0</td>\n",
       "      <td>0.0</td>\n",
       "      <td>0.0</td>\n",
       "      <td>5.0</td>\n",
       "    </tr>\n",
       "    <tr>\n",
       "      <th>1</th>\n",
       "      <td>0.0</td>\n",
       "      <td>5.0</td>\n",
       "      <td>0.0</td>\n",
       "      <td>0.0</td>\n",
       "      <td>5.0</td>\n",
       "      <td>0.0</td>\n",
       "      <td>0.0</td>\n",
       "      <td>5.0</td>\n",
       "      <td>0.0</td>\n",
       "      <td>0.0</td>\n",
       "      <td>0.0</td>\n",
       "      <td>5.0</td>\n",
       "      <td>0.0</td>\n",
       "    </tr>\n",
       "    <tr>\n",
       "      <th>2</th>\n",
       "      <td>0.0</td>\n",
       "      <td>0.0</td>\n",
       "      <td>0.0</td>\n",
       "      <td>5.0</td>\n",
       "      <td>0.0</td>\n",
       "      <td>0.0</td>\n",
       "      <td>5.0</td>\n",
       "      <td>5.0</td>\n",
       "      <td>0.0</td>\n",
       "      <td>0.0</td>\n",
       "      <td>0.0</td>\n",
       "      <td>5.0</td>\n",
       "      <td>0.0</td>\n",
       "    </tr>\n",
       "    <tr>\n",
       "      <th>3</th>\n",
       "      <td>0.0</td>\n",
       "      <td>0.0</td>\n",
       "      <td>0.0</td>\n",
       "      <td>5.0</td>\n",
       "      <td>5.0</td>\n",
       "      <td>0.0</td>\n",
       "      <td>0.0</td>\n",
       "      <td>5.0</td>\n",
       "      <td>0.0</td>\n",
       "      <td>0.0</td>\n",
       "      <td>0.0</td>\n",
       "      <td>5.0</td>\n",
       "      <td>0.0</td>\n",
       "    </tr>\n",
       "    <tr>\n",
       "      <th>4</th>\n",
       "      <td>0.0</td>\n",
       "      <td>0.0</td>\n",
       "      <td>0.0</td>\n",
       "      <td>5.0</td>\n",
       "      <td>0.0</td>\n",
       "      <td>0.0</td>\n",
       "      <td>5.0</td>\n",
       "      <td>5.0</td>\n",
       "      <td>0.0</td>\n",
       "      <td>0.0</td>\n",
       "      <td>0.0</td>\n",
       "      <td>0.0</td>\n",
       "      <td>5.0</td>\n",
       "    </tr>\n",
       "  </tbody>\n",
       "</table>\n",
       "</div>"
      ],
      "text/plain": [
       "   Parch  Embarked_C  Embarked_S  Embarked_Q  First_Class  Second Class  \\\n",
       "0    0.0         0.0         0.0         5.0          0.0           0.0   \n",
       "1    0.0         5.0         0.0         0.0          5.0           0.0   \n",
       "2    0.0         0.0         0.0         5.0          0.0           0.0   \n",
       "3    0.0         0.0         0.0         5.0          5.0           0.0   \n",
       "4    0.0         0.0         0.0         5.0          0.0           0.0   \n",
       "\n",
       "   Third Class  Age_adult  Age_children  Age_senior  Age_teenage  Male  Female  \n",
       "0          5.0        5.0           0.0         0.0          0.0   0.0     5.0  \n",
       "1          0.0        5.0           0.0         0.0          0.0   5.0     0.0  \n",
       "2          5.0        5.0           0.0         0.0          0.0   5.0     0.0  \n",
       "3          0.0        5.0           0.0         0.0          0.0   5.0     0.0  \n",
       "4          5.0        5.0           0.0         0.0          0.0   0.0     5.0  "
      ]
     },
     "execution_count": 4,
     "metadata": {},
     "output_type": "execute_result"
    }
   ],
   "source": [
    "final_train_df.head()"
   ]
  },
  {
   "cell_type": "code",
   "execution_count": 5,
   "metadata": {},
   "outputs": [
    {
     "data": {
      "text/plain": [
       "((712, 13), (712,), (179, 13), (179,))"
      ]
     },
     "execution_count": 5,
     "metadata": {},
     "output_type": "execute_result"
    }
   ],
   "source": [
    "X_train, X_test, y_train, y_test = train_test_split(final_train_df.as_matrix(), target.as_matrix(), test_size=0.2)\n",
    "X_train.shape, y_train.shape, X_test.shape, y_test.shape"
   ]
  },
  {
   "cell_type": "code",
   "execution_count": 6,
   "metadata": {},
   "outputs": [
    {
     "data": {
      "text/plain": [
       "LogisticRegression(C=1.0, class_weight=None, dual=False, fit_intercept=True,\n",
       "          intercept_scaling=1, max_iter=100, multi_class='ovr', n_jobs=1,\n",
       "          penalty='l2', random_state=None, solver='liblinear', tol=0.0001,\n",
       "          verbose=0, warm_start=False)"
      ]
     },
     "execution_count": 6,
     "metadata": {},
     "output_type": "execute_result"
    }
   ],
   "source": [
    "# 각 모델 별 학습시키기\n",
    "\n",
    "mnb = MultinomialNB()\n",
    "bnb = BernoulliNB()\n",
    "gnb = GaussianNB()\n",
    "lr = LogisticRegression()\n",
    "\n",
    "mnb.fit(X_train, y_train)\n",
    "bnb.fit(X_train, y_train)\n",
    "gnb.fit(X_train, y_train)\n",
    "lr.fit(X_train, y_train)"
   ]
  },
  {
   "cell_type": "code",
   "execution_count": 7,
   "metadata": {},
   "outputs": [
    {
     "name": "stdout",
     "output_type": "stream",
     "text": [
      "             precision    recall  f1-score   support\n",
      "\n",
      "          0       0.85      0.86      0.86       108\n",
      "          1       0.79      0.77      0.78        71\n",
      "\n",
      "avg / total       0.83      0.83      0.83       179\n",
      "\n"
     ]
    }
   ],
   "source": [
    "print(classification_report(y_test, mnb.predict(X_test)))"
   ]
  },
  {
   "cell_type": "code",
   "execution_count": 8,
   "metadata": {},
   "outputs": [
    {
     "name": "stdout",
     "output_type": "stream",
     "text": [
      "             precision    recall  f1-score   support\n",
      "\n",
      "          0       0.85      0.89      0.87       108\n",
      "          1       0.82      0.76      0.79        71\n",
      "\n",
      "avg / total       0.84      0.84      0.84       179\n",
      "\n"
     ]
    }
   ],
   "source": [
    "print(classification_report(y_test, bnb.predict(X_test)))"
   ]
  },
  {
   "cell_type": "code",
   "execution_count": 9,
   "metadata": {},
   "outputs": [
    {
     "name": "stdout",
     "output_type": "stream",
     "text": [
      "             precision    recall  f1-score   support\n",
      "\n",
      "          0       0.84      0.82      0.83       108\n",
      "          1       0.74      0.76      0.75        71\n",
      "\n",
      "avg / total       0.80      0.80      0.80       179\n",
      "\n"
     ]
    }
   ],
   "source": [
    "print(classification_report(y_test, gnb.predict(X_test)))"
   ]
  },
  {
   "cell_type": "code",
   "execution_count": 10,
   "metadata": {},
   "outputs": [
    {
     "name": "stdout",
     "output_type": "stream",
     "text": [
      "             precision    recall  f1-score   support\n",
      "\n",
      "          0       0.84      0.90      0.87       108\n",
      "          1       0.83      0.75      0.79        71\n",
      "\n",
      "avg / total       0.84      0.84      0.84       179\n",
      "\n"
     ]
    }
   ],
   "source": [
    "print(classification_report(y_test, lr.predict(X_test)))"
   ]
  },
  {
   "cell_type": "code",
   "execution_count": 11,
   "metadata": {},
   "outputs": [
    {
     "name": "stdout",
     "output_type": "stream",
     "text": [
      "[MultinomialNB] Model Accuracy Score : 0.785 +/- 0.020\n",
      "[BernoulliNB] Model Accuracy Score : 0.779 +/- 0.025\n",
      "[GaussianNB] Model Accuracy Score : 0.705 +/- 0.152\n",
      "[LogisticRegression] Model Accuracy Score : 0.798 +/- 0.025\n"
     ]
    }
   ],
   "source": [
    "def cross_validation_score(model, X, y, model_label, cv_methods=KFold(n_splits=5)):\n",
    "    for _, (clf, label) in enumerate(zip(model, model_label)):\n",
    "        scores = cross_val_score(clf, X, y, cv=cv_methods, scoring='accuracy', n_jobs=-1)\n",
    "        print('[{}] Model Accuracy Score : {:0.3f} +/- {:0.3f}'.format(label, np.mean(scores), np.std(scores)))\n",
    "        \n",
    "model = [mnb, bnb, gnb, lr]\n",
    "model_label = ['MultinomialNB', 'BernoulliNB', 'GaussianNB', 'LogisticRegression']\n",
    "cross_validation_score(model, final_train_df, target, model_label)"
   ]
  },
  {
   "cell_type": "markdown",
   "metadata": {},
   "source": [
    "### ROC Curve 시각화"
   ]
  },
  {
   "cell_type": "code",
   "execution_count": 12,
   "metadata": {
    "collapsed": true
   },
   "outputs": [],
   "source": [
    "y_real = y_test\n",
    "scores_mnb = mnb.predict_proba(X_test)[:, 1]\n",
    "scores_bnb = bnb.predict_proba(X_test)[:, 1]\n",
    "scores_gnb = gnb.predict_proba(X_test)[:, 1]\n",
    "scores_lr = lr.predict_proba(X_test)[:, 1]\n",
    "\n",
    "fpr_mnb, tpr_mnb, threshold = roc_curve(y_real, scores_mnb)\n",
    "fpr_bnb, tpr_bnb, threshold = roc_curve(y_real, scores_bnb)\n",
    "fpr_gnb, tpr_gnb, threshold = roc_curve(y_real, scores_gnb)\n",
    "fpr_lr, tpr_lr, threshold = roc_curve(y_real, scores_lr)\n",
    "\n",
    "roc_auc_mnb = roc_auc_score(y_real, scores_mnb)\n",
    "roc_auc_bnb = roc_auc_score(y_real, scores_bnb)\n",
    "roc_auc_gnb = roc_auc_score(y_real, scores_gnb)\n",
    "roc_auc_lr = roc_auc_score(y_real, scores_lr)"
   ]
  },
  {
   "cell_type": "code",
   "execution_count": 13,
   "metadata": {},
   "outputs": [
    {
     "data": {
      "image/png": "[encoded data removed]",
      "text/plain": [
       "<matplotlib.figure.Figure at 0xa5be710>"
      ]
     },
     "metadata": {},
     "output_type": "display_data"
    }
   ],
   "source": [
    "plt.figure()\n",
    "plt.plot(fpr_mnb, tpr_mnb, color='darkorange',\n",
    "        lw=2, label='ROC curve of {} (area = {:.6f})'.format('mnb', roc_auc_mnb))\n",
    "plt.plot(fpr_bnb, tpr_bnb, color='blue',\n",
    "        lw=2, label='ROC curve of {} (area = {:.6f})'.format('bnb', roc_auc_bnb))\n",
    "plt.plot(fpr_gnb, tpr_gnb, color='green',\n",
    "        lw=2, label='ROC curve of {} (area = {:.6f})'.format('gnb', roc_auc_gnb))\n",
    "plt.plot(fpr_lr, tpr_lr, color='red',\n",
    "        lw=2, label='ROC curve of {} (area = {:.6f})'.format('lr', roc_auc_lr))\n",
    "plt.plot([0,1], [0,1], color='black', lw=2, linestyle='--')\n",
    "plt.xlim([0.0, 1.0])\n",
    "plt.ylim([0.0, 1.05])\n",
    "plt.xlabel('False Positive Rate')\n",
    "plt.ylabel('True Posivie Rate')\n",
    "plt.title('ROC curve for Models')\n",
    "plt.legend(loc='lower right')\n",
    "plt.show()"
   ]
  },
  {
   "cell_type": "code",
   "execution_count": 14,
   "metadata": {},
   "outputs": [
    {
     "name": "stdout",
     "output_type": "stream",
     "text": [
      "Using LogisticRegression of Confusion matrix :\n",
      " [[97 11]\n",
      " [18 53]]\n",
      "\n",
      "True Positive  : 53 False Negative : 18\n",
      "False Positive : 11 True Negative  : 97\n",
      "\n",
      "Accuracy    : 0.838 Precision : 0.828 Recall : 0.746\n",
      "Specificity : 0.898 Fallout : 0.102\n"
     ]
    }
   ],
   "source": [
    "def using_metric(y_true, y_pred, model_label):\n",
    "    c_m = confusion_matrix(y_true, y_pred)\n",
    "    \n",
    "    tp = set((np.where(y_true==1)[0]).tolist()) & set((np.where(y_pred==1)[0]).tolist())\n",
    "    fn = set((np.where(y_true==1)[0]).tolist()) & set((np.where(y_pred==0)[0]).tolist())\n",
    "    fp = set((np.where(y_true==0)[0]).tolist()) & set((np.where(y_pred==1)[0]).tolist())\n",
    "    tn = set((np.where(y_true==0)[0]).tolist()) & set((np.where(y_pred==0)[0]).tolist())\n",
    "    \n",
    "    accuracy = (len(tp) + len(tn)) / (len(tp) + len(fn) + len(fp) + len(tn)) # accuracy_score로 가능\n",
    "    precision = len(tp) / (len(tp) + len(fp))                                # precision_score로 가능\n",
    "    recall = len(tp) / (len(tp) + len(fn))                                   # recall_score로 가능\n",
    "    specificity = len(tn) / (len(fp) + len(tn))                              \n",
    "    fallout = len(fp) / (len(fp) + len(tn))\n",
    "    \n",
    "    print('Using {1} of Confusion matrix :\\n {0}'.format(c_m, model_label))\n",
    "    print()\n",
    "    print('True Positive  : {}'.format(len(tp)), 'False Negative : {}'.format(len(fn)))\n",
    "    print('False Positive : {}'.format(len(fp)), 'True Negative  : {}'.format(len(tn)))\n",
    "    print()\n",
    "    print('Accuracy    : {:.3f}'.format(accuracy), 'Precision : {:.3f}'.format(precision), 'Recall : {:.3f}'.format(recall))\n",
    "    print('Specificity : {:.3f}'.format(specificity), 'Fallout : {:.3f}'.format(fallout))\n",
    "\n",
    "using_metric(y_real, lr.predict(X_test), 'LogisticRegression')"
   ]
  },
  {
   "cell_type": "markdown",
   "metadata": {},
   "source": [
    "* Parameter 정보\n",
    "\n",
    "   * C : float, default: 1.0, 1/lambda : L1 or L2 Penalty에서 lambda의 역할 => hyperparameter\n",
    "       * hyperparameter : 학습하는 과정에서 모델이 결정하는 parameter가 아닌 사람들이 정해야 할 parameter\n",
    "       \n",
    "Inverse of regularization strength; must be a positive float. Like in support vector machines, smaller values specify stronger regularization. (#Scikit-Learn 문서 참고)\n",
    "\n",
    "   * Penalty l1 : Ridge Regularization : 가중치들의 제곱합을 최소화 하는 것을 추가 제약 조건으로 함. lambda * sum of squared weights\n",
    "   * Penalty l2 : Lasso Regularization : 가중치들의 절대값의 합을 최소화 하는 것을 추가 제약 조건으로 함. lambda * sum of absolute weights"
   ]
  },
  {
   "cell_type": "code",
   "execution_count": 15,
   "metadata": {},
   "outputs": [
    {
     "name": "stdout",
     "output_type": "stream",
     "text": [
      "Best Parameter : {'C': 0.001, 'penalty': 'l2'}\n",
      "Model Score : 0.8024691358024691\n"
     ]
    }
   ],
   "source": [
    "def grid_search(X, y, clf, parameters, n_jobs=-1, cv=5):\n",
    "    gs_clf = GridSearchCV(clf, parameters, n_jobs = n_jobs, cv = cv, scoring='accuracy')\n",
    "    gs_clf = gs_clf.fit(X, y)\n",
    "    print('Best Parameter :', gs_clf.best_params_)\n",
    "    print('Model Score : {}'.format(gs_clf.best_score_))\n",
    "parameters = {\n",
    "    'penalty' : ['l1', 'l2'],\n",
    "    'C' : [0.001, 0.01, 0.1, 1, 10, 100], # 작을수록 정규화 정도가 강함 1/lambda\n",
    "}\n",
    "grid_search(final_train_df, target, lr, parameters)"
   ]
  },
  {
   "cell_type": "markdown",
   "metadata": {},
   "source": [
    "# Test Data 적용"
   ]
  },
  {
   "cell_type": "code",
   "execution_count": 16,
   "metadata": {},
   "outputs": [
    {
     "data": {
      "text/html": [
       "<div>\n",
       "<style>\n",
       "    .dataframe thead tr:only-child th {\n",
       "        text-align: right;\n",
       "    }\n",
       "\n",
       "    .dataframe thead th {\n",
       "        text-align: left;\n",
       "    }\n",
       "\n",
       "    .dataframe tbody tr th {\n",
       "        vertical-align: top;\n",
       "    }\n",
       "</style>\n",
       "<table border=\"1\" class=\"dataframe\">\n",
       "  <thead>\n",
       "    <tr style=\"text-align: right;\">\n",
       "      <th></th>\n",
       "      <th>PassengerId</th>\n",
       "      <th>Survived</th>\n",
       "    </tr>\n",
       "  </thead>\n",
       "  <tbody>\n",
       "    <tr>\n",
       "      <th>0</th>\n",
       "      <td>892</td>\n",
       "      <td>0</td>\n",
       "    </tr>\n",
       "    <tr>\n",
       "      <th>1</th>\n",
       "      <td>893</td>\n",
       "      <td>1</td>\n",
       "    </tr>\n",
       "    <tr>\n",
       "      <th>2</th>\n",
       "      <td>894</td>\n",
       "      <td>0</td>\n",
       "    </tr>\n",
       "    <tr>\n",
       "      <th>3</th>\n",
       "      <td>895</td>\n",
       "      <td>0</td>\n",
       "    </tr>\n",
       "    <tr>\n",
       "      <th>4</th>\n",
       "      <td>896</td>\n",
       "      <td>1</td>\n",
       "    </tr>\n",
       "  </tbody>\n",
       "</table>\n",
       "</div>"
      ],
      "text/plain": [
       "   PassengerId  Survived\n",
       "0          892         0\n",
       "1          893         1\n",
       "2          894         0\n",
       "3          895         0\n",
       "4          896         1"
      ]
     },
     "execution_count": 16,
     "metadata": {},
     "output_type": "execute_result"
    }
   ],
   "source": [
    "gender_submission = pd.read_csv('gender_submission.csv')\n",
    "gender_submission.head()"
   ]
  },
  {
   "cell_type": "code",
   "execution_count": 17,
   "metadata": {},
   "outputs": [
    {
     "data": {
      "text/plain": [
       "LogisticRegression(C=0.001, class_weight=None, dual=False, fit_intercept=True,\n",
       "          intercept_scaling=1, max_iter=100, multi_class='ovr', n_jobs=1,\n",
       "          penalty='l2', random_state=None, solver='liblinear', tol=0.0001,\n",
       "          verbose=0, warm_start=False)"
      ]
     },
     "execution_count": 17,
     "metadata": {},
     "output_type": "execute_result"
    }
   ],
   "source": [
    "final_clf = LogisticRegression(C=0.001, penalty='l2')\n",
    "final_clf.fit(final_train_df, target)"
   ]
  },
  {
   "cell_type": "code",
   "execution_count": 18,
   "metadata": {},
   "outputs": [
    {
     "data": {
      "text/html": [
       "<div>\n",
       "<style>\n",
       "    .dataframe thead tr:only-child th {\n",
       "        text-align: right;\n",
       "    }\n",
       "\n",
       "    .dataframe thead th {\n",
       "        text-align: left;\n",
       "    }\n",
       "\n",
       "    .dataframe tbody tr th {\n",
       "        vertical-align: top;\n",
       "    }\n",
       "</style>\n",
       "<table border=\"1\" class=\"dataframe\">\n",
       "  <thead>\n",
       "    <tr style=\"text-align: right;\">\n",
       "      <th></th>\n",
       "      <th>PassengerId</th>\n",
       "      <th>Survived</th>\n",
       "    </tr>\n",
       "  </thead>\n",
       "  <tbody>\n",
       "    <tr>\n",
       "      <th>0</th>\n",
       "      <td>892</td>\n",
       "      <td>0</td>\n",
       "    </tr>\n",
       "    <tr>\n",
       "      <th>1</th>\n",
       "      <td>893</td>\n",
       "      <td>0</td>\n",
       "    </tr>\n",
       "    <tr>\n",
       "      <th>2</th>\n",
       "      <td>894</td>\n",
       "      <td>0</td>\n",
       "    </tr>\n",
       "    <tr>\n",
       "      <th>3</th>\n",
       "      <td>895</td>\n",
       "      <td>0</td>\n",
       "    </tr>\n",
       "    <tr>\n",
       "      <th>4</th>\n",
       "      <td>896</td>\n",
       "      <td>0</td>\n",
       "    </tr>\n",
       "  </tbody>\n",
       "</table>\n",
       "</div>"
      ],
      "text/plain": [
       "   PassengerId  Survived\n",
       "0          892         0\n",
       "1          893         0\n",
       "2          894         0\n",
       "3          895         0\n",
       "4          896         0"
      ]
     },
     "execution_count": 18,
     "metadata": {},
     "output_type": "execute_result"
    }
   ],
   "source": [
    "submission = pd.DataFrame({'PassengerId' : test_df['PassengerId'],\n",
    "                           'Survived' : final_clf.predict(final_test_df)})\n",
    "submission.head()"
   ]
  },
  {
   "cell_type": "code",
   "execution_count": 19,
   "metadata": {
    "collapsed": true
   },
   "outputs": [],
   "source": [
    "#submission.to_csv('submission.csv', index=False)"
   ]
  },
  {
   "attachments": {
    "model1.png": {
     "image/png": "[encoded data removed]"
    }
   },
   "cell_type": "markdown",
   "metadata": {},
   "source": [
    "![model1.png](attachment:model1.png)"
   ]
  },
  {
   "cell_type": "markdown",
   "metadata": {},
   "source": [
    "# Modeling #2 Flow\n",
    "### Cross Validation -> Performance 측정 -> Model Tuning -> Test 데이터 모델 적용 후 Kaggle 제출\n",
    "\n",
    "* Modeling 1 과정과 동일"
   ]
  },
  {
   "cell_type": "code",
   "execution_count": 20,
   "metadata": {},
   "outputs": [
    {
     "data": {
      "text/html": [
       "<div>\n",
       "<style>\n",
       "    .dataframe thead tr:only-child th {\n",
       "        text-align: right;\n",
       "    }\n",
       "\n",
       "    .dataframe thead th {\n",
       "        text-align: left;\n",
       "    }\n",
       "\n",
       "    .dataframe tbody tr th {\n",
       "        vertical-align: top;\n",
       "    }\n",
       "</style>\n",
       "<table border=\"1\" class=\"dataframe\">\n",
       "  <thead>\n",
       "    <tr style=\"text-align: right;\">\n",
       "      <th></th>\n",
       "      <th>Parch</th>\n",
       "      <th>Embarked_C</th>\n",
       "      <th>Embarked_Q</th>\n",
       "      <th>Embarked_S</th>\n",
       "      <th>Pclass_1</th>\n",
       "      <th>Pclass_2</th>\n",
       "      <th>Pclass_3</th>\n",
       "      <th>Sex_female</th>\n",
       "      <th>Sex_male</th>\n",
       "      <th>Age_Segmentation_nonadult</th>\n",
       "      <th>Age_Segmentation_adult</th>\n",
       "    </tr>\n",
       "  </thead>\n",
       "  <tbody>\n",
       "    <tr>\n",
       "      <th>0</th>\n",
       "      <td>0.0</td>\n",
       "      <td>0.0</td>\n",
       "      <td>0.0</td>\n",
       "      <td>5.0</td>\n",
       "      <td>0.0</td>\n",
       "      <td>0.0</td>\n",
       "      <td>5.0</td>\n",
       "      <td>0.0</td>\n",
       "      <td>5.0</td>\n",
       "      <td>0.0</td>\n",
       "      <td>5.0</td>\n",
       "    </tr>\n",
       "    <tr>\n",
       "      <th>1</th>\n",
       "      <td>0.0</td>\n",
       "      <td>5.0</td>\n",
       "      <td>0.0</td>\n",
       "      <td>0.0</td>\n",
       "      <td>5.0</td>\n",
       "      <td>0.0</td>\n",
       "      <td>0.0</td>\n",
       "      <td>5.0</td>\n",
       "      <td>0.0</td>\n",
       "      <td>0.0</td>\n",
       "      <td>5.0</td>\n",
       "    </tr>\n",
       "    <tr>\n",
       "      <th>2</th>\n",
       "      <td>0.0</td>\n",
       "      <td>0.0</td>\n",
       "      <td>0.0</td>\n",
       "      <td>5.0</td>\n",
       "      <td>0.0</td>\n",
       "      <td>0.0</td>\n",
       "      <td>5.0</td>\n",
       "      <td>5.0</td>\n",
       "      <td>0.0</td>\n",
       "      <td>0.0</td>\n",
       "      <td>5.0</td>\n",
       "    </tr>\n",
       "    <tr>\n",
       "      <th>3</th>\n",
       "      <td>0.0</td>\n",
       "      <td>0.0</td>\n",
       "      <td>0.0</td>\n",
       "      <td>5.0</td>\n",
       "      <td>5.0</td>\n",
       "      <td>0.0</td>\n",
       "      <td>0.0</td>\n",
       "      <td>5.0</td>\n",
       "      <td>0.0</td>\n",
       "      <td>0.0</td>\n",
       "      <td>5.0</td>\n",
       "    </tr>\n",
       "    <tr>\n",
       "      <th>4</th>\n",
       "      <td>0.0</td>\n",
       "      <td>0.0</td>\n",
       "      <td>0.0</td>\n",
       "      <td>5.0</td>\n",
       "      <td>0.0</td>\n",
       "      <td>0.0</td>\n",
       "      <td>5.0</td>\n",
       "      <td>0.0</td>\n",
       "      <td>5.0</td>\n",
       "      <td>0.0</td>\n",
       "      <td>5.0</td>\n",
       "    </tr>\n",
       "  </tbody>\n",
       "</table>\n",
       "</div>"
      ],
      "text/plain": [
       "   Parch  Embarked_C  Embarked_Q  Embarked_S  Pclass_1  Pclass_2  Pclass_3  \\\n",
       "0    0.0         0.0         0.0         5.0       0.0       0.0       5.0   \n",
       "1    0.0         5.0         0.0         0.0       5.0       0.0       0.0   \n",
       "2    0.0         0.0         0.0         5.0       0.0       0.0       5.0   \n",
       "3    0.0         0.0         0.0         5.0       5.0       0.0       0.0   \n",
       "4    0.0         0.0         0.0         5.0       0.0       0.0       5.0   \n",
       "\n",
       "   Sex_female  Sex_male  Age_Segmentation_nonadult  Age_Segmentation_adult  \n",
       "0         0.0       5.0                        0.0                     5.0  \n",
       "1         5.0       0.0                        0.0                     5.0  \n",
       "2         5.0       0.0                        0.0                     5.0  \n",
       "3         5.0       0.0                        0.0                     5.0  \n",
       "4         0.0       5.0                        0.0                     5.0  "
      ]
     },
     "execution_count": 20,
     "metadata": {},
     "output_type": "execute_result"
    }
   ],
   "source": [
    "Big_df2 = pd.read_pickle('save_preprocessing_2.pkl')\n",
    "Big_df2.head()"
   ]
  },
  {
   "cell_type": "code",
   "execution_count": 21,
   "metadata": {
    "collapsed": true
   },
   "outputs": [],
   "source": [
    "final_train_df_pre2 = Big_df2.iloc[:train_df.shape[0]]\n",
    "final_test_df_pre2 = Big_df2.iloc[train_df.shape[0]:]\n",
    "final_test_df_pre2.index = test_df.index"
   ]
  },
  {
   "cell_type": "code",
   "execution_count": 22,
   "metadata": {},
   "outputs": [
    {
     "data": {
      "text/plain": [
       "((712, 11), (712,), (179, 11), (179,))"
      ]
     },
     "execution_count": 22,
     "metadata": {},
     "output_type": "execute_result"
    }
   ],
   "source": [
    "X_train, X_test, y_train, y_test = train_test_split(final_train_df_pre2.as_matrix(), target.as_matrix(), test_size=0.2)\n",
    "X_train.shape, y_train.shape, X_test.shape, y_test.shape"
   ]
  },
  {
   "cell_type": "code",
   "execution_count": 23,
   "metadata": {},
   "outputs": [
    {
     "data": {
      "text/plain": [
       "LogisticRegression(C=1.0, class_weight=None, dual=False, fit_intercept=True,\n",
       "          intercept_scaling=1, max_iter=100, multi_class='ovr', n_jobs=1,\n",
       "          penalty='l2', random_state=None, solver='liblinear', tol=0.0001,\n",
       "          verbose=0, warm_start=False)"
      ]
     },
     "execution_count": 23,
     "metadata": {},
     "output_type": "execute_result"
    }
   ],
   "source": [
    "# 각 모델 별 학습시키기\n",
    "\n",
    "mnb = MultinomialNB()\n",
    "bnb = BernoulliNB()\n",
    "gnb = GaussianNB()\n",
    "lr = LogisticRegression()\n",
    "\n",
    "mnb.fit(X_train, y_train)\n",
    "bnb.fit(X_train, y_train)\n",
    "gnb.fit(X_train, y_train)\n",
    "lr.fit(X_train, y_train)"
   ]
  },
  {
   "cell_type": "code",
   "execution_count": 24,
   "metadata": {},
   "outputs": [
    {
     "name": "stdout",
     "output_type": "stream",
     "text": [
      "             precision    recall  f1-score   support\n",
      "\n",
      "          0       0.81      0.75      0.78       104\n",
      "          1       0.69      0.76      0.72        75\n",
      "\n",
      "avg / total       0.76      0.75      0.76       179\n",
      "\n"
     ]
    }
   ],
   "source": [
    "print(classification_report(y_test, mnb.predict(X_test)))"
   ]
  },
  {
   "cell_type": "code",
   "execution_count": 25,
   "metadata": {},
   "outputs": [
    {
     "name": "stdout",
     "output_type": "stream",
     "text": [
      "             precision    recall  f1-score   support\n",
      "\n",
      "          0       0.81      0.76      0.79       104\n",
      "          1       0.70      0.76      0.73        75\n",
      "\n",
      "avg / total       0.76      0.76      0.76       179\n",
      "\n"
     ]
    }
   ],
   "source": [
    "print(classification_report(y_test, bnb.predict(X_test)))"
   ]
  },
  {
   "cell_type": "code",
   "execution_count": 26,
   "metadata": {},
   "outputs": [
    {
     "name": "stdout",
     "output_type": "stream",
     "text": [
      "             precision    recall  f1-score   support\n",
      "\n",
      "          0       0.81      0.74      0.77       104\n",
      "          1       0.68      0.76      0.72        75\n",
      "\n",
      "avg / total       0.76      0.75      0.75       179\n",
      "\n"
     ]
    }
   ],
   "source": [
    "print(classification_report(y_test, gnb.predict(X_test)))"
   ]
  },
  {
   "cell_type": "code",
   "execution_count": 27,
   "metadata": {},
   "outputs": [
    {
     "name": "stdout",
     "output_type": "stream",
     "text": [
      "             precision    recall  f1-score   support\n",
      "\n",
      "          0       0.81      0.85      0.83       104\n",
      "          1       0.77      0.72      0.74        75\n",
      "\n",
      "avg / total       0.79      0.79      0.79       179\n",
      "\n"
     ]
    }
   ],
   "source": [
    "print(classification_report(y_test, lr.predict(X_test)))"
   ]
  },
  {
   "cell_type": "code",
   "execution_count": 28,
   "metadata": {},
   "outputs": [
    {
     "name": "stdout",
     "output_type": "stream",
     "text": [
      "[MultinomialNB] Model Accuracy Score : 0.778 +/- 0.020\n",
      "[BernoulliNB] Model Accuracy Score : 0.778 +/- 0.024\n",
      "[GaussianNB] Model Accuracy Score : 0.774 +/- 0.020\n",
      "[LogisticRegression] Model Accuracy Score : 0.789 +/- 0.025\n"
     ]
    }
   ],
   "source": [
    "# 위에 있는 cross_validation_score 함수 이용\n",
    "\n",
    "model = [mnb, bnb, gnb, lr]\n",
    "model_label = ['MultinomialNB', 'BernoulliNB', 'GaussianNB', 'LogisticRegression']\n",
    "cross_validation_score(model, final_train_df_pre2, target, model_label)"
   ]
  },
  {
   "cell_type": "markdown",
   "metadata": {},
   "source": [
    "### ROC Curve 시각화"
   ]
  },
  {
   "cell_type": "code",
   "execution_count": 29,
   "metadata": {
    "collapsed": true
   },
   "outputs": [],
   "source": [
    "y_real = y_test\n",
    "scores_mnb = mnb.predict_proba(X_test)[:, 1]\n",
    "scores_bnb = bnb.predict_proba(X_test)[:, 1]\n",
    "scores_gnb = gnb.predict_proba(X_test)[:, 1]\n",
    "scores_lr = lr.predict_proba(X_test)[:, 1]\n",
    "\n",
    "fpr_mnb, tpr_mnb, threshold = roc_curve(y_real, scores_mnb)\n",
    "fpr_bnb, tpr_bnb, threshold = roc_curve(y_real, scores_bnb)\n",
    "fpr_gnb, tpr_gnb, threshold = roc_curve(y_real, scores_gnb)\n",
    "fpr_lr, tpr_lr, threshold = roc_curve(y_real, scores_lr)\n",
    "\n",
    "roc_auc_mnb = roc_auc_score(y_real, scores_mnb)\n",
    "roc_auc_bnb = roc_auc_score(y_real, scores_bnb)\n",
    "roc_auc_gnb = roc_auc_score(y_real, scores_gnb)\n",
    "roc_auc_lr = roc_auc_score(y_real, scores_lr)"
   ]
  },
  {
   "cell_type": "code",
   "execution_count": 30,
   "metadata": {},
   "outputs": [
    {
     "data": {
      "image/png": "[encoded data removed]",
      "text/plain": [
       "<matplotlib.figure.Figure at 0xa7412b0>"
      ]
     },
     "metadata": {},
     "output_type": "display_data"
    }
   ],
   "source": [
    "plt.figure()\n",
    "plt.plot(fpr_mnb, tpr_mnb, color='darkorange',\n",
    "        lw=2, label='ROC curve of {} (area = {:.6f})'.format('mnb', roc_auc_mnb))\n",
    "plt.plot(fpr_bnb, tpr_bnb, color='blue',\n",
    "        lw=2, label='ROC curve of {} (area = {:.6f})'.format('bnb', roc_auc_bnb))\n",
    "plt.plot(fpr_gnb, tpr_gnb, color='green',\n",
    "        lw=2, label='ROC curve of {} (area = {:.6f})'.format('gnb', roc_auc_gnb))\n",
    "plt.plot(fpr_lr, tpr_lr, color='red',\n",
    "        lw=2, label='ROC curve of {} (area = {:.6f})'.format('lr', roc_auc_lr))\n",
    "plt.plot([0,1], [0,1], color='black', lw=2, linestyle='--')\n",
    "plt.xlim([0.0, 1.0])\n",
    "plt.ylim([0.0, 1.05])\n",
    "plt.xlabel('False Positive Rate')\n",
    "plt.ylabel('True Posivie Rate')\n",
    "plt.title('ROC curve for Models')\n",
    "plt.legend(loc='lower right')\n",
    "plt.show()"
   ]
  },
  {
   "cell_type": "code",
   "execution_count": 31,
   "metadata": {},
   "outputs": [
    {
     "name": "stdout",
     "output_type": "stream",
     "text": [
      "Using LogisticRegression of Confusion matrix :\n",
      " [[88 16]\n",
      " [21 54]]\n",
      "\n",
      "True Positive  : 54 False Negative : 21\n",
      "False Positive : 16 True Negative  : 88\n",
      "\n",
      "Accuracy    : 0.793 Precision : 0.771 Recall : 0.720\n",
      "Specificity : 0.846 Fallout : 0.154\n"
     ]
    }
   ],
   "source": [
    "using_metric(y_real, lr.predict(X_test), 'LogisticRegression')"
   ]
  },
  {
   "cell_type": "code",
   "execution_count": 32,
   "metadata": {},
   "outputs": [
    {
     "name": "stdout",
     "output_type": "stream",
     "text": [
      "Best Parameter : {'C': 0.001, 'penalty': 'l2'}\n",
      "Model Score : 0.8013468013468014\n"
     ]
    }
   ],
   "source": [
    "# 위에 있는 grid_search 함수 이용\n",
    "\n",
    "parameters ={\n",
    "    'penalty' : ['l1', 'l2'],\n",
    "    'C' : [0.001, 0.01, 0.1, 1, 10, 100],\n",
    "}\n",
    "grid_search(final_train_df_pre2, target, lr, parameters)"
   ]
  },
  {
   "cell_type": "markdown",
   "metadata": {},
   "source": [
    "# Test Data 적용"
   ]
  },
  {
   "cell_type": "code",
   "execution_count": 33,
   "metadata": {},
   "outputs": [
    {
     "data": {
      "text/plain": [
       "LogisticRegression(C=0.001, class_weight=None, dual=False, fit_intercept=True,\n",
       "          intercept_scaling=1, max_iter=100, multi_class='ovr', n_jobs=1,\n",
       "          penalty='l2', random_state=None, solver='liblinear', tol=0.0001,\n",
       "          verbose=0, warm_start=False)"
      ]
     },
     "execution_count": 33,
     "metadata": {},
     "output_type": "execute_result"
    }
   ],
   "source": [
    "final_clf_2 = LogisticRegression(C=0.001, penalty='l2')\n",
    "final_clf_2.fit(final_train_df_pre2, target)"
   ]
  },
  {
   "cell_type": "code",
   "execution_count": 34,
   "metadata": {},
   "outputs": [
    {
     "data": {
      "text/html": [
       "<div>\n",
       "<style>\n",
       "    .dataframe thead tr:only-child th {\n",
       "        text-align: right;\n",
       "    }\n",
       "\n",
       "    .dataframe thead th {\n",
       "        text-align: left;\n",
       "    }\n",
       "\n",
       "    .dataframe tbody tr th {\n",
       "        vertical-align: top;\n",
       "    }\n",
       "</style>\n",
       "<table border=\"1\" class=\"dataframe\">\n",
       "  <thead>\n",
       "    <tr style=\"text-align: right;\">\n",
       "      <th></th>\n",
       "      <th>PassengerId</th>\n",
       "      <th>Survived</th>\n",
       "    </tr>\n",
       "  </thead>\n",
       "  <tbody>\n",
       "    <tr>\n",
       "      <th>0</th>\n",
       "      <td>892</td>\n",
       "      <td>0</td>\n",
       "    </tr>\n",
       "    <tr>\n",
       "      <th>1</th>\n",
       "      <td>893</td>\n",
       "      <td>0</td>\n",
       "    </tr>\n",
       "    <tr>\n",
       "      <th>2</th>\n",
       "      <td>894</td>\n",
       "      <td>0</td>\n",
       "    </tr>\n",
       "    <tr>\n",
       "      <th>3</th>\n",
       "      <td>895</td>\n",
       "      <td>0</td>\n",
       "    </tr>\n",
       "    <tr>\n",
       "      <th>4</th>\n",
       "      <td>896</td>\n",
       "      <td>0</td>\n",
       "    </tr>\n",
       "  </tbody>\n",
       "</table>\n",
       "</div>"
      ],
      "text/plain": [
       "   PassengerId  Survived\n",
       "0          892         0\n",
       "1          893         0\n",
       "2          894         0\n",
       "3          895         0\n",
       "4          896         0"
      ]
     },
     "execution_count": 34,
     "metadata": {},
     "output_type": "execute_result"
    }
   ],
   "source": [
    "submission = pd.DataFrame({'PassengerId' : test_df['PassengerId'],\n",
    "                           'Survived' : final_clf_2.predict(final_test_df_pre2)})\n",
    "submission.head()"
   ]
  },
  {
   "cell_type": "code",
   "execution_count": 35,
   "metadata": {
    "collapsed": true
   },
   "outputs": [],
   "source": [
    "#submission.to_csv('Submission_2.csv', index=False)"
   ]
  },
  {
   "attachments": {
    "model2.png": {
     "image/png": "[encoded data removed]"
    }
   },
   "cell_type": "markdown",
   "metadata": {},
   "source": [
    "![model2.png](attachment:model2.png)"
   ]
  }
 ],
 "metadata": {
  "kernelspec": {
   "display_name": "Python 3",
   "language": "python",
   "name": "python3"
  },
  "language_info": {
   "codemirror_mode": {
    "name": "ipython",
    "version": 3
   },
   "file_extension": ".py",
   "mimetype": "text/x-python",
   "name": "python",
   "nbconvert_exporter": "python",
   "pygments_lexer": "ipython3",
   "version": "3.5.3"
  }
 },
 "nbformat": 4,
 "nbformat_minor": 2
}
