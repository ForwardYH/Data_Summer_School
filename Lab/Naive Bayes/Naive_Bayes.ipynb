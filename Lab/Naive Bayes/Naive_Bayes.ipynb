{
 "cells": [
  {
   "cell_type": "code",
   "execution_count": 1,
   "metadata": {
    "collapsed": true
   },
   "outputs": [],
   "source": [
    "import pandas as pd\n",
    "import numpy as np\n",
    "import matplotlib.pyplot as plt\n",
    "import seaborn as sns\n",
    "import re\n",
    "from sklearn.datasets import fetch_20newsgroups\n",
    "from sklearn.feature_extraction.text import CountVectorizer, TfidfVectorizer\n",
    "from sklearn.pipeline import Pipeline\n",
    "from sklearn.preprocessing import LabelEncoder\n",
    "from sklearn.model_selection import KFold, train_test_split, cross_val_score\n",
    "from sklearn.naive_bayes import MultinomialNB, BernoulliNB\n",
    "from sklearn.metrics import classification_report, accuracy_score\n",
    "%matplotlib inline"
   ]
  },
  {
   "cell_type": "code",
   "execution_count": 2,
   "metadata": {
    "collapsed": true
   },
   "outputs": [],
   "source": [
    "news = fetch_20newsgroups(subset='all')"
   ]
  },
  {
   "cell_type": "markdown",
   "metadata": {},
   "source": [
    "## 뉴스 분류기 모델 만들기\n",
    "\n",
    "* 데이터 파악\n",
    "* 전처리(Preprocessing)\n",
    "\n",
    "    * 필요없는 단어 제거 (Data Cleansing)\n",
    "    * CountVectorizer & Tf-idfVectorizer\n",
    "\n",
    "---\n",
    "    \n",
    "* Modeling : BernoulliNB, MultinomialNB 사용\n",
    "  * Cross Validation(Kfold 이용)\n",
    "  \n",
    "---\n",
    "\n",
    "* Pipeline 이용\n",
    "\n",
    "---\n",
    "\n",
    "* Assignment Description\n",
    "     * 위 신문 데이터를 바탕으로 신문 내용별 분류기를 개발하라\n",
    "     * 위 데이터를 Traing / Test Dataset으로 나눠서 5-fold cross validation(5번 데이터를 training / testset으로 나눔, KV 활용)\n",
    "     * Naive Bayesian Classifier와 Count Vector를 활용하여 각각 성능을 테스트하라\n",
    "         * NB는 multinomial과 bernuoil 분포를 모두 사용하라\n",
    "     * 가능할 경우, TF-IDF vector를 활용해 볼것 (검색어 - tf-idf scikit-learn)"
   ]
  },
  {
   "cell_type": "markdown",
   "metadata": {},
   "source": [
    "# Train data와 Test data로 따로 나눔\n",
    "   * 18846개의 데이터\n",
    "       * 전체 데이터의 50% Train data\n",
    "       * 전체 데이터의 50% Test data : 모델을 만들고 난 후 Test data 적용"
   ]
  },
  {
   "cell_type": "code",
   "execution_count": 3,
   "metadata": {},
   "outputs": [
    {
     "data": {
      "text/plain": [
       "(18846, 9423)"
      ]
     },
     "execution_count": 3,
     "metadata": {},
     "output_type": "execute_result"
    }
   ],
   "source": [
    "len(news.data), int(len(news.data) * 0.5)"
   ]
  },
  {
   "cell_type": "code",
   "execution_count": 4,
   "metadata": {
    "collapsed": true
   },
   "outputs": [],
   "source": [
    "train_dataset = news.data[:int(len(news.data) * 0.5)]\n",
    "train_target_set = news.target[:int(len(news.target) * 0.5)]\n",
    "test_dataset = news.data[int(len(news.data) * 0.5):]\n",
    "test_target_set = news.target[int(len(news.target) * 0.5):]"
   ]
  },
  {
   "cell_type": "code",
   "execution_count": 5,
   "metadata": {
    "collapsed": true
   },
   "outputs": [],
   "source": [
    "news_df = pd.DataFrame({'News' : train_dataset,\n",
    "                        'Target' : train_target_set})"
   ]
  },
  {
   "cell_type": "code",
   "execution_count": 6,
   "metadata": {},
   "outputs": [
    {
     "data": {
      "text/html": [
       "<div>\n",
       "<style>\n",
       "    .dataframe thead tr:only-child th {\n",
       "        text-align: right;\n",
       "    }\n",
       "\n",
       "    .dataframe thead th {\n",
       "        text-align: left;\n",
       "    }\n",
       "\n",
       "    .dataframe tbody tr th {\n",
       "        vertical-align: top;\n",
       "    }\n",
       "</style>\n",
       "<table border=\"1\" class=\"dataframe\">\n",
       "  <thead>\n",
       "    <tr style=\"text-align: right;\">\n",
       "      <th></th>\n",
       "      <th>News</th>\n",
       "      <th>Target</th>\n",
       "    </tr>\n",
       "  </thead>\n",
       "  <tbody>\n",
       "    <tr>\n",
       "      <th>0</th>\n",
       "      <td>From: Mamatha Devineni Ratnam &lt;mr47+@andrew.cm...</td>\n",
       "      <td>10</td>\n",
       "    </tr>\n",
       "    <tr>\n",
       "      <th>1</th>\n",
       "      <td>From: mblawson@midway.ecn.uoknor.edu (Matthew ...</td>\n",
       "      <td>3</td>\n",
       "    </tr>\n",
       "    <tr>\n",
       "      <th>2</th>\n",
       "      <td>From: hilmi-er@dsv.su.se (Hilmi Eren)\\nSubject...</td>\n",
       "      <td>17</td>\n",
       "    </tr>\n",
       "    <tr>\n",
       "      <th>3</th>\n",
       "      <td>From: guyd@austin.ibm.com (Guy Dawson)\\nSubjec...</td>\n",
       "      <td>3</td>\n",
       "    </tr>\n",
       "    <tr>\n",
       "      <th>4</th>\n",
       "      <td>From: Alexander Samuel McDiarmid &lt;am2o+@andrew...</td>\n",
       "      <td>4</td>\n",
       "    </tr>\n",
       "  </tbody>\n",
       "</table>\n",
       "</div>"
      ],
      "text/plain": [
       "                                                News  Target\n",
       "0  From: Mamatha Devineni Ratnam <mr47+@andrew.cm...      10\n",
       "1  From: mblawson@midway.ecn.uoknor.edu (Matthew ...       3\n",
       "2  From: hilmi-er@dsv.su.se (Hilmi Eren)\\nSubject...      17\n",
       "3  From: guyd@austin.ibm.com (Guy Dawson)\\nSubjec...       3\n",
       "4  From: Alexander Samuel McDiarmid <am2o+@andrew...       4"
      ]
     },
     "execution_count": 6,
     "metadata": {},
     "output_type": "execute_result"
    }
   ],
   "source": [
    "news_df.head()"
   ]
  },
  {
   "cell_type": "code",
   "execution_count": 7,
   "metadata": {},
   "outputs": [
    {
     "data": {
      "text/html": [
       "<div>\n",
       "<style>\n",
       "    .dataframe thead tr:only-child th {\n",
       "        text-align: right;\n",
       "    }\n",
       "\n",
       "    .dataframe thead th {\n",
       "        text-align: left;\n",
       "    }\n",
       "\n",
       "    .dataframe tbody tr th {\n",
       "        vertical-align: top;\n",
       "    }\n",
       "</style>\n",
       "<table border=\"1\" class=\"dataframe\">\n",
       "  <thead>\n",
       "    <tr style=\"text-align: right;\">\n",
       "      <th></th>\n",
       "      <th>News</th>\n",
       "      <th>Target</th>\n",
       "    </tr>\n",
       "  </thead>\n",
       "  <tbody>\n",
       "    <tr>\n",
       "      <th>0</th>\n",
       "      <td>From: Mamatha Devineni Ratnam &lt;mr47+@andrew.cm...</td>\n",
       "      <td>rec.sport.hockey</td>\n",
       "    </tr>\n",
       "    <tr>\n",
       "      <th>1</th>\n",
       "      <td>From: mblawson@midway.ecn.uoknor.edu (Matthew ...</td>\n",
       "      <td>comp.sys.ibm.pc.hardware</td>\n",
       "    </tr>\n",
       "    <tr>\n",
       "      <th>2</th>\n",
       "      <td>From: hilmi-er@dsv.su.se (Hilmi Eren)\\nSubject...</td>\n",
       "      <td>talk.politics.mideast</td>\n",
       "    </tr>\n",
       "    <tr>\n",
       "      <th>3</th>\n",
       "      <td>From: guyd@austin.ibm.com (Guy Dawson)\\nSubjec...</td>\n",
       "      <td>comp.sys.ibm.pc.hardware</td>\n",
       "    </tr>\n",
       "    <tr>\n",
       "      <th>4</th>\n",
       "      <td>From: Alexander Samuel McDiarmid &lt;am2o+@andrew...</td>\n",
       "      <td>comp.sys.mac.hardware</td>\n",
       "    </tr>\n",
       "  </tbody>\n",
       "</table>\n",
       "</div>"
      ],
      "text/plain": [
       "                                                News                    Target\n",
       "0  From: Mamatha Devineni Ratnam <mr47+@andrew.cm...          rec.sport.hockey\n",
       "1  From: mblawson@midway.ecn.uoknor.edu (Matthew ...  comp.sys.ibm.pc.hardware\n",
       "2  From: hilmi-er@dsv.su.se (Hilmi Eren)\\nSubject...     talk.politics.mideast\n",
       "3  From: guyd@austin.ibm.com (Guy Dawson)\\nSubjec...  comp.sys.ibm.pc.hardware\n",
       "4  From: Alexander Samuel McDiarmid <am2o+@andrew...     comp.sys.mac.hardware"
      ]
     },
     "execution_count": 7,
     "metadata": {},
     "output_type": "execute_result"
    }
   ],
   "source": [
    "# Target 데이터 -> 문자 라벨링(뉴스마다 어떤 뉴스인지 보기 편하도록 만들기 위해서)\n",
    "def word_labeling(lst, df):\n",
    "    for idx, name in enumerate(lst):\n",
    "        target_data = df['Target']\n",
    "        for idx_, num_label in enumerate(target_data):\n",
    "            if num_label == idx:\n",
    "                df.loc[idx_, 'Target'] = name\n",
    "    return df\n",
    "news_df = word_labeling(news['target_names'], news_df)\n",
    "news_df.head()"
   ]
  },
  {
   "cell_type": "markdown",
   "metadata": {},
   "source": [
    "* Data Cleansing\n",
    "    * 이메일 제거\n",
    "    * 불필요 숫자 제거\n",
    "    * 문자 아닌 특수문자 제거\n",
    "    * 단어 사이 공백 제거 : 띄어쓰기 별로 split해주고 join"
   ]
  },
  {
   "cell_type": "code",
   "execution_count": 8,
   "metadata": {
    "collapsed": true
   },
   "outputs": [],
   "source": [
    "def data_cleansing(df):\n",
    "    delete_email = re.sub(r'\\b[\\w\\+]+@[\\w]+.[\\w]+.[\\w]+.[\\w]+\\b', ' ', df)\n",
    "    delete_number = re.sub(r'\\b|\\d+|\\b', ' ',delete_email)\n",
    "    delete_non_word = re.sub(r'\\b[\\W]+\\b', ' ', delete_number)\n",
    "    cleaning_result = ' '.join(delete_non_word.split())\n",
    "    return cleaning_result "
   ]
  },
  {
   "cell_type": "code",
   "execution_count": 9,
   "metadata": {},
   "outputs": [
    {
     "data": {
      "text/html": [
       "<div>\n",
       "<style>\n",
       "    .dataframe thead tr:only-child th {\n",
       "        text-align: right;\n",
       "    }\n",
       "\n",
       "    .dataframe thead th {\n",
       "        text-align: left;\n",
       "    }\n",
       "\n",
       "    .dataframe tbody tr th {\n",
       "        vertical-align: top;\n",
       "    }\n",
       "</style>\n",
       "<table border=\"1\" class=\"dataframe\">\n",
       "  <thead>\n",
       "    <tr style=\"text-align: right;\">\n",
       "      <th></th>\n",
       "      <th>News</th>\n",
       "      <th>Target</th>\n",
       "    </tr>\n",
       "  </thead>\n",
       "  <tbody>\n",
       "    <tr>\n",
       "      <th>0</th>\n",
       "      <td>From Mamatha Devineni Ratnam Subject Pens fans...</td>\n",
       "      <td>rec.sport.hockey</td>\n",
       "    </tr>\n",
       "    <tr>\n",
       "      <th>1</th>\n",
       "      <td>From Matthew B Lawson Subject Which high perfo...</td>\n",
       "      <td>comp.sys.ibm.pc.hardware</td>\n",
       "    </tr>\n",
       "    <tr>\n",
       "      <th>2</th>\n",
       "      <td>From hilmi Hilmi Eren Subject Re ARMENIA SAYS ...</td>\n",
       "      <td>talk.politics.mideast</td>\n",
       "    </tr>\n",
       "    <tr>\n",
       "      <th>3</th>\n",
       "      <td>From Guy Dawson Subject Re IDE vs SCSI DMA and...</td>\n",
       "      <td>comp.sys.ibm.pc.hardware</td>\n",
       "    </tr>\n",
       "    <tr>\n",
       "      <th>4</th>\n",
       "      <td>From Alexander Samuel McDiarmid Subject driver...</td>\n",
       "      <td>comp.sys.mac.hardware</td>\n",
       "    </tr>\n",
       "  </tbody>\n",
       "</table>\n",
       "</div>"
      ],
      "text/plain": [
       "                                                News                    Target\n",
       "0  From Mamatha Devineni Ratnam Subject Pens fans...          rec.sport.hockey\n",
       "1  From Matthew B Lawson Subject Which high perfo...  comp.sys.ibm.pc.hardware\n",
       "2  From hilmi Hilmi Eren Subject Re ARMENIA SAYS ...     talk.politics.mideast\n",
       "3  From Guy Dawson Subject Re IDE vs SCSI DMA and...  comp.sys.ibm.pc.hardware\n",
       "4  From Alexander Samuel McDiarmid Subject driver...     comp.sys.mac.hardware"
      ]
     },
     "execution_count": 9,
     "metadata": {},
     "output_type": "execute_result"
    }
   ],
   "source": [
    "news_df.loc[:, 'News'] = news_df['News'].apply(data_cleansing)\n",
    "news_df.head()"
   ]
  },
  {
   "cell_type": "markdown",
   "metadata": {},
   "source": [
    "* CountVectorizer \n",
    "  * 문서 집합으로부터 단어의 수를 세어 카운트 행렬을 만듦\n",
    "* TfidfVectorizer \n",
    "    * 단어를 갯수 그대로 카운트하지 않고 모든 문서에 공통적으로 들어있는 단어의 경우 문서 구별 능력이 떨어진다고 보아 가중치를 축소하는 방법\n",
    "    * TF(Term Frequency) : 문서에서 해당 단어가 얼마나 나왔는지 나타내주는 빈도 수\n",
    "    * DF(Document Frequency) : 해당 단어가 있는 문서의 수\n",
    "    * IDF(Inverse Document Frequency) 해당 단어가 있는 문서의 수가 높아질 수록 가중치를 축소해주기 위해 역수 취해줌\n",
    "        * log(N / (1 + DF))      \n",
    "            * N : 전체 문서의 수\n",
    "    * TF-IDF = TF * IDF"
   ]
  },
  {
   "cell_type": "code",
   "execution_count": 10,
   "metadata": {
    "collapsed": true
   },
   "outputs": [],
   "source": [
    "# pipe_model 1 ~ 2 : BernoulliNB 사용\n",
    "pipe_model_1 = Pipeline([('cv', CountVectorizer(analyzer='word', stop_words='english')),\n",
    "                         ('bnb', BernoulliNB())])\n",
    "\n",
    "pipe_model_2 = Pipeline([('tfidf',TfidfVectorizer(analyzer='word', stop_words='english')),\n",
    "                         ('bnb', BernoulliNB())])\n",
    "\n",
    "# pipe_model 3 ~ 4 : MultinomialNB 사용 \n",
    "pipe_model_3 = Pipeline([('cv', CountVectorizer(analyzer='word', stop_words='english')),\n",
    "                         ('mnb', MultinomialNB())])\n",
    "\n",
    "pipe_model_4 = Pipeline([('tfidf', TfidfVectorizer(analyzer='word', stop_words='english')),\n",
    "                         ('mnb', MultinomialNB())])"
   ]
  },
  {
   "cell_type": "code",
   "execution_count": 11,
   "metadata": {
    "collapsed": true
   },
   "outputs": [],
   "source": [
    "# 모델에 쓰일 Feature, Target\n",
    "X = news_df.loc[:, 'News']\n",
    "y = news_df.loc[:, 'Target']"
   ]
  },
  {
   "cell_type": "code",
   "execution_count": 12,
   "metadata": {
    "collapsed": true
   },
   "outputs": [],
   "source": [
    "# 위에 데이터 프레임에서 Target 데이터가 문자로 Labeling 되어 있기 때문에 숫자로 바꿔줘야 함.  \n",
    "le = LabelEncoder()\n",
    "y = le.fit_transform(y)"
   ]
  },
  {
   "cell_type": "markdown",
   "metadata": {},
   "source": [
    "* Cross Validation #1"
   ]
  },
  {
   "cell_type": "code",
   "execution_count": 13,
   "metadata": {},
   "outputs": [
    {
     "name": "stdout",
     "output_type": "stream",
     "text": [
      "Model1 : Accuracy Score : 0.595 ± 0.001\n",
      "Model2 : Accuracy Score : 0.595 ± 0.001\n",
      "Model3 : Accuracy Score : 0.839 ± 0.000\n",
      "Model4 : Accuracy Score : 0.851 ± 0.000\n"
     ]
    }
   ],
   "source": [
    "kf = KFold(n_splits=5, shuffle=False)\n",
    "for i, clf in enumerate([pipe_model_1, pipe_model_2, pipe_model_3, pipe_model_4]):\n",
    "    score = cross_val_score(clf, X, y, cv=kf, n_jobs=-1, scoring='accuracy')\n",
    "    print((\"Model{} : Accuracy Score : {:.3f} ± {:.3f}\").format(i+1, np.mean(score), np.std(score) ** 2))"
   ]
  },
  {
   "cell_type": "markdown",
   "metadata": {},
   "source": [
    "* Cross Validation #2"
   ]
  },
  {
   "cell_type": "code",
   "execution_count": 14,
   "metadata": {
    "collapsed": true
   },
   "outputs": [],
   "source": [
    "x_train, x_test, y_train, y_test = train_test_split(X, y, test_size=0.3, random_state=22)"
   ]
  },
  {
   "cell_type": "code",
   "execution_count": 15,
   "metadata": {},
   "outputs": [
    {
     "data": {
      "text/plain": [
       "Pipeline(steps=[('tfidf', TfidfVectorizer(analyzer='word', binary=False, decode_error='strict',\n",
       "        dtype=<class 'numpy.int64'>, encoding='utf-8', input='content',\n",
       "        lowercase=True, max_df=1.0, max_features=None, min_df=1,\n",
       "        ngram_range=(1, 1), norm='l2', preprocessor=None, smooth_idf=True,\n",
       " ...rue,\n",
       "        vocabulary=None)), ('mnb', MultinomialNB(alpha=1.0, class_prior=None, fit_prior=True))])"
      ]
     },
     "execution_count": 15,
     "metadata": {},
     "output_type": "execute_result"
    }
   ],
   "source": [
    "pipe_model_3.fit(x_train, y_train)\n",
    "pipe_model_4.fit(x_train, y_train)"
   ]
  },
  {
   "cell_type": "code",
   "execution_count": 16,
   "metadata": {},
   "outputs": [
    {
     "data": {
      "text/plain": [
       "array(['alt.atheism', 'comp.graphics', 'comp.os.ms-windows.misc',\n",
       "       'comp.sys.ibm.pc.hardware', 'comp.sys.mac.hardware',\n",
       "       'comp.windows.x', 'misc.forsale', 'rec.autos', 'rec.motorcycles',\n",
       "       'rec.sport.baseball', 'rec.sport.hockey', 'sci.crypt',\n",
       "       'sci.electronics', 'sci.med', 'sci.space', 'soc.religion.christian',\n",
       "       'talk.politics.guns', 'talk.politics.mideast', 'talk.politics.misc',\n",
       "       'talk.religion.misc'], dtype=object)"
      ]
     },
     "execution_count": 16,
     "metadata": {},
     "output_type": "execute_result"
    }
   ],
   "source": [
    "target_name = news_df.loc[news_df['Target'].sort_values().index] # 알파벳 순으로 정렬 한후 DataFrame으로 표시\n",
    "article_species = target_name['Target'].unique() # Target으로 사용되는 데이터 중복 제거 후 label 표시\n",
    "article_species"
   ]
  },
  {
   "cell_type": "markdown",
   "metadata": {},
   "source": [
    "* Classification Report\n",
    "    * Model 3\n",
    "    * Model 4"
   ]
  },
  {
   "cell_type": "markdown",
   "metadata": {},
   "source": [
    "* Model 3"
   ]
  },
  {
   "cell_type": "code",
   "execution_count": 17,
   "metadata": {},
   "outputs": [
    {
     "name": "stdout",
     "output_type": "stream",
     "text": [
      "                          precision    recall  f1-score   support\n",
      "\n",
      "             alt.atheism       0.94      0.78      0.85       125\n",
      "           comp.graphics       0.61      0.85      0.71       158\n",
      " comp.os.ms-windows.misc       0.82      0.06      0.12       141\n",
      "comp.sys.ibm.pc.hardware       0.60      0.86      0.71       153\n",
      "   comp.sys.mac.hardware       0.82      0.83      0.83       141\n",
      "          comp.windows.x       0.66      0.86      0.75       159\n",
      "            misc.forsale       0.95      0.62      0.75       149\n",
      "               rec.autos       0.94      0.83      0.88       164\n",
      "         rec.motorcycles       0.92      0.97      0.94       157\n",
      "      rec.sport.baseball       0.96      0.95      0.96       144\n",
      "        rec.sport.hockey       0.97      0.95      0.96       150\n",
      "               sci.crypt       0.80      0.92      0.86       131\n",
      "         sci.electronics       0.86      0.81      0.83       162\n",
      "                 sci.med       0.96      0.93      0.94       145\n",
      "               sci.space       0.88      0.95      0.91       130\n",
      "  soc.religion.christian       0.85      0.97      0.91       157\n",
      "      talk.politics.guns       0.74      0.93      0.82       129\n",
      "   talk.politics.mideast       0.93      0.96      0.95       141\n",
      "      talk.politics.misc       0.75      0.78      0.76       107\n",
      "      talk.religion.misc       0.84      0.51      0.64        84\n",
      "\n",
      "             avg / total       0.84      0.82      0.81      2827\n",
      "\n"
     ]
    }
   ],
   "source": [
    "print(classification_report(y_test, pipe_model_3.predict(x_test), target_names=article_species))"
   ]
  },
  {
   "cell_type": "markdown",
   "metadata": {},
   "source": [
    "* Model 4 # Selected"
   ]
  },
  {
   "cell_type": "code",
   "execution_count": 18,
   "metadata": {},
   "outputs": [
    {
     "name": "stdout",
     "output_type": "stream",
     "text": [
      "                          precision    recall  f1-score   support\n",
      "\n",
      "             alt.atheism       0.95      0.60      0.74       125\n",
      "           comp.graphics       0.88      0.79      0.83       158\n",
      " comp.os.ms-windows.misc       0.75      0.74      0.75       141\n",
      "comp.sys.ibm.pc.hardware       0.69      0.86      0.77       153\n",
      "   comp.sys.mac.hardware       0.90      0.88      0.89       141\n",
      "          comp.windows.x       0.85      0.89      0.87       159\n",
      "            misc.forsale       0.90      0.70      0.79       149\n",
      "               rec.autos       0.96      0.81      0.88       164\n",
      "         rec.motorcycles       0.89      0.99      0.93       157\n",
      "      rec.sport.baseball       0.97      0.96      0.96       144\n",
      "        rec.sport.hockey       0.95      0.96      0.95       150\n",
      "               sci.crypt       0.77      0.95      0.85       131\n",
      "         sci.electronics       0.85      0.83      0.84       162\n",
      "                 sci.med       0.99      0.92      0.95       145\n",
      "               sci.space       0.87      0.95      0.91       130\n",
      "  soc.religion.christian       0.69      0.99      0.81       157\n",
      "      talk.politics.guns       0.65      0.94      0.77       129\n",
      "   talk.politics.mideast       0.89      0.98      0.93       141\n",
      "      talk.politics.misc       0.94      0.54      0.69       107\n",
      "      talk.religion.misc       0.83      0.23      0.36        84\n",
      "\n",
      "             avg / total       0.86      0.84      0.84      2827\n",
      "\n"
     ]
    }
   ],
   "source": [
    "print(classification_report(y_test, pipe_model_4.predict(x_test), target_names=article_species))"
   ]
  },
  {
   "cell_type": "markdown",
   "metadata": {},
   "source": [
    "# Test Data 적용\n",
    "   * Train data에서 전처리 해줬던 과정을 Test data에서도 그대로 진행 "
   ]
  },
  {
   "cell_type": "code",
   "execution_count": 28,
   "metadata": {},
   "outputs": [
    {
     "data": {
      "text/html": [
       "<div>\n",
       "<style>\n",
       "    .dataframe thead tr:only-child th {\n",
       "        text-align: right;\n",
       "    }\n",
       "\n",
       "    .dataframe thead th {\n",
       "        text-align: left;\n",
       "    }\n",
       "\n",
       "    .dataframe tbody tr th {\n",
       "        vertical-align: top;\n",
       "    }\n",
       "</style>\n",
       "<table border=\"1\" class=\"dataframe\">\n",
       "  <thead>\n",
       "    <tr style=\"text-align: right;\">\n",
       "      <th></th>\n",
       "      <th>News</th>\n",
       "      <th>Target</th>\n",
       "    </tr>\n",
       "  </thead>\n",
       "  <tbody>\n",
       "    <tr>\n",
       "      <th>0</th>\n",
       "      <td>From: atg@holmes.acc.Virginia.EDU (Adrian T. G...</td>\n",
       "      <td>6</td>\n",
       "    </tr>\n",
       "    <tr>\n",
       "      <th>1</th>\n",
       "      <td>From: sera@zuma.UUCP (Serdar Argic)\\nSubject: ...</td>\n",
       "      <td>17</td>\n",
       "    </tr>\n",
       "    <tr>\n",
       "      <th>2</th>\n",
       "      <td>From: prb@access.digex.com (Pat)\\nSubject: Re:...</td>\n",
       "      <td>14</td>\n",
       "    </tr>\n",
       "    <tr>\n",
       "      <th>3</th>\n",
       "      <td>From: Arthur_Noguerola@vos.stratus.com\\nSubjec...</td>\n",
       "      <td>6</td>\n",
       "    </tr>\n",
       "    <tr>\n",
       "      <th>4</th>\n",
       "      <td>From: dyer@spdcc.com (Steve Dyer)\\nSubject: Re...</td>\n",
       "      <td>13</td>\n",
       "    </tr>\n",
       "  </tbody>\n",
       "</table>\n",
       "</div>"
      ],
      "text/plain": [
       "                                                News  Target\n",
       "0  From: atg@holmes.acc.Virginia.EDU (Adrian T. G...       6\n",
       "1  From: sera@zuma.UUCP (Serdar Argic)\\nSubject: ...      17\n",
       "2  From: prb@access.digex.com (Pat)\\nSubject: Re:...      14\n",
       "3  From: Arthur_Noguerola@vos.stratus.com\\nSubjec...       6\n",
       "4  From: dyer@spdcc.com (Steve Dyer)\\nSubject: Re...      13"
      ]
     },
     "execution_count": 28,
     "metadata": {},
     "output_type": "execute_result"
    }
   ],
   "source": [
    "test_news_df = pd.DataFrame({'News' : test_dataset,\n",
    "                        'Target' : test_target_set})\n",
    "test_news_df.head()"
   ]
  },
  {
   "cell_type": "code",
   "execution_count": 20,
   "metadata": {},
   "outputs": [
    {
     "data": {
      "text/html": [
       "<div>\n",
       "<style>\n",
       "    .dataframe thead tr:only-child th {\n",
       "        text-align: right;\n",
       "    }\n",
       "\n",
       "    .dataframe thead th {\n",
       "        text-align: left;\n",
       "    }\n",
       "\n",
       "    .dataframe tbody tr th {\n",
       "        vertical-align: top;\n",
       "    }\n",
       "</style>\n",
       "<table border=\"1\" class=\"dataframe\">\n",
       "  <thead>\n",
       "    <tr style=\"text-align: right;\">\n",
       "      <th></th>\n",
       "      <th>News</th>\n",
       "      <th>Target</th>\n",
       "    </tr>\n",
       "  </thead>\n",
       "  <tbody>\n",
       "    <tr>\n",
       "      <th>0</th>\n",
       "      <td>From: atg@holmes.acc.Virginia.EDU (Adrian T. G...</td>\n",
       "      <td>misc.forsale</td>\n",
       "    </tr>\n",
       "    <tr>\n",
       "      <th>1</th>\n",
       "      <td>From: sera@zuma.UUCP (Serdar Argic)\\nSubject: ...</td>\n",
       "      <td>talk.politics.mideast</td>\n",
       "    </tr>\n",
       "    <tr>\n",
       "      <th>2</th>\n",
       "      <td>From: prb@access.digex.com (Pat)\\nSubject: Re:...</td>\n",
       "      <td>sci.space</td>\n",
       "    </tr>\n",
       "    <tr>\n",
       "      <th>3</th>\n",
       "      <td>From: Arthur_Noguerola@vos.stratus.com\\nSubjec...</td>\n",
       "      <td>misc.forsale</td>\n",
       "    </tr>\n",
       "    <tr>\n",
       "      <th>4</th>\n",
       "      <td>From: dyer@spdcc.com (Steve Dyer)\\nSubject: Re...</td>\n",
       "      <td>sci.med</td>\n",
       "    </tr>\n",
       "  </tbody>\n",
       "</table>\n",
       "</div>"
      ],
      "text/plain": [
       "                                                News                 Target\n",
       "0  From: atg@holmes.acc.Virginia.EDU (Adrian T. G...           misc.forsale\n",
       "1  From: sera@zuma.UUCP (Serdar Argic)\\nSubject: ...  talk.politics.mideast\n",
       "2  From: prb@access.digex.com (Pat)\\nSubject: Re:...              sci.space\n",
       "3  From: Arthur_Noguerola@vos.stratus.com\\nSubjec...           misc.forsale\n",
       "4  From: dyer@spdcc.com (Steve Dyer)\\nSubject: Re...                sci.med"
      ]
     },
     "execution_count": 20,
     "metadata": {},
     "output_type": "execute_result"
    }
   ],
   "source": [
    "# Target Data 문자 라벨링\n",
    "test_news_df_a = word_labeling(news['target_names'], test_news_df)\n",
    "test_news_df_a.head()"
   ]
  },
  {
   "cell_type": "code",
   "execution_count": 21,
   "metadata": {},
   "outputs": [
    {
     "data": {
      "text/html": [
       "<div>\n",
       "<style>\n",
       "    .dataframe thead tr:only-child th {\n",
       "        text-align: right;\n",
       "    }\n",
       "\n",
       "    .dataframe thead th {\n",
       "        text-align: left;\n",
       "    }\n",
       "\n",
       "    .dataframe tbody tr th {\n",
       "        vertical-align: top;\n",
       "    }\n",
       "</style>\n",
       "<table border=\"1\" class=\"dataframe\">\n",
       "  <thead>\n",
       "    <tr style=\"text-align: right;\">\n",
       "      <th></th>\n",
       "      <th>News</th>\n",
       "      <th>Target</th>\n",
       "    </tr>\n",
       "  </thead>\n",
       "  <tbody>\n",
       "    <tr>\n",
       "      <th>0</th>\n",
       "      <td>From Adrian T Gibson Subject Dayna Etherprint ...</td>\n",
       "      <td>misc.forsale</td>\n",
       "    </tr>\n",
       "    <tr>\n",
       "      <th>1</th>\n",
       "      <td>From Serdar Argic Subject Armenian scholars on...</td>\n",
       "      <td>talk.politics.mideast</td>\n",
       "    </tr>\n",
       "    <tr>\n",
       "      <th>2</th>\n",
       "      <td>From Pat Subject Re How many read sci space Or...</td>\n",
       "      <td>sci.space</td>\n",
       "    </tr>\n",
       "    <tr>\n",
       "      <th>3</th>\n",
       "      <td>From Subject stereo gear for sale Organization...</td>\n",
       "      <td>misc.forsale</td>\n",
       "    </tr>\n",
       "    <tr>\n",
       "      <th>4</th>\n",
       "      <td>From Steve Dyer Subject Re Hismanal et al side...</td>\n",
       "      <td>sci.med</td>\n",
       "    </tr>\n",
       "  </tbody>\n",
       "</table>\n",
       "</div>"
      ],
      "text/plain": [
       "                                                News                 Target\n",
       "0  From Adrian T Gibson Subject Dayna Etherprint ...           misc.forsale\n",
       "1  From Serdar Argic Subject Armenian scholars on...  talk.politics.mideast\n",
       "2  From Pat Subject Re How many read sci space Or...              sci.space\n",
       "3  From Subject stereo gear for sale Organization...           misc.forsale\n",
       "4  From Steve Dyer Subject Re Hismanal et al side...                sci.med"
      ]
     },
     "execution_count": 21,
     "metadata": {},
     "output_type": "execute_result"
    }
   ],
   "source": [
    "# Test data 전처리\n",
    "test_news_df_a.loc[:, 'News'] = test_news_df_a['News'].apply(data_cleansing)\n",
    "test_news_df_a.head()"
   ]
  },
  {
   "cell_type": "code",
   "execution_count": 22,
   "metadata": {},
   "outputs": [
    {
     "data": {
      "text/plain": [
       "((9423,), (9423,))"
      ]
     },
     "execution_count": 22,
     "metadata": {},
     "output_type": "execute_result"
    }
   ],
   "source": [
    "X_test = test_news_df_a.loc[:, 'News']\n",
    "y_test = le.fit_transform(test_news_df_a['Target'])\n",
    "X_test.shape, y_test.shape"
   ]
  },
  {
   "cell_type": "code",
   "execution_count": 23,
   "metadata": {},
   "outputs": [
    {
     "data": {
      "text/plain": [
       "Pipeline(steps=[('tfidf', TfidfVectorizer(analyzer='word', binary=False, decode_error='strict',\n",
       "        dtype=<class 'numpy.int64'>, encoding='utf-8', input='content',\n",
       "        lowercase=True, max_df=1.0, max_features=None, min_df=1,\n",
       "        ngram_range=(1, 1), norm='l2', preprocessor=None, smooth_idf=True,\n",
       " ...rue,\n",
       "        vocabulary=None)), ('mnb', MultinomialNB(alpha=1.0, class_prior=None, fit_prior=True))])"
      ]
     },
     "execution_count": 23,
     "metadata": {},
     "output_type": "execute_result"
    }
   ],
   "source": [
    "# Test data 모델에 적용\n",
    "final_clf = pipe_model_4\n",
    "final_clf.fit(X,y) # 먼저 모델에 train 데이터에서 사용 되었던 데이터 적용"
   ]
  },
  {
   "cell_type": "code",
   "execution_count": 24,
   "metadata": {},
   "outputs": [
    {
     "name": "stdout",
     "output_type": "stream",
     "text": [
      "0.857051894301\n"
     ]
    }
   ],
   "source": [
    "# Model Score\n",
    "print(accuracy_score(y_test, final_clf.predict(X_test)))"
   ]
  },
  {
   "cell_type": "markdown",
   "metadata": {},
   "source": [
    "* 실제로 예측한 뉴스 종류와 실제 뉴스 종류와 같은지 확인\n",
    "  * 8번째 뉴스 예측"
   ]
  },
  {
   "cell_type": "code",
   "execution_count": 32,
   "metadata": {
    "scrolled": false
   },
   "outputs": [
    {
     "name": "stdout",
     "output_type": "stream",
     "text": [
      "Organization: University of Illinois at Chicago, academic Computer Center\n",
      "From: Jason Kratz <U28037@uicvm.uic.edu>\n",
      "Subject: Re: Don't knock the Glock (was Re: My Gun is like my Am Ex Card)\n",
      "Distribution: usa\n",
      " <93104.231049U28037@uicv <1993Apr15.152834.16638@mksol.dseg.ti.com>\n",
      "Lines: 46\n",
      "\n",
      "In article <1993Apr15.152834.16638@mksol.dseg.ti.com>, pyron@skndiv.dseg.ti.com\n",
      "(Dillon Pyron) says:\n",
      ">>>Some police departments switched to Glocks, and then started quietly\n",
      ">>>switching many officers back to the old revolvers. Too many were having\n",
      ">>>accidents, partly due to the poor training they received. Not that Glocks\n",
      ">>>require rocket scientists, but some cops are baffled by something as complex\n",
      ">>>as the timer on a VCR.\n",
      ">>\n",
      ">>Hell, a Glock is the last thing that should be switched to.  The only thing\n",
      ">>that I know about a Glock is the lack of a real safety on it.  Sure there is\n",
      ">>that little thing in the trigger but that isn't too great of a safety.\n",
      ">\n",
      ">Ahem!!!  Hrumph!!!!  You have encurred the wrath of Glock owners.  We will\n",
      ">beat\n",
      ">you with our hammers.  Oooops, don't have any  :-)\n",
      ">\n",
      ">Seriously.  There is no difference in the safeties betweena Glock and any DA\n",
      ">revolver.  Intellectually, think of the Glock as a very high cap revolver.\n",
      ">Ignoring stove pipes, misfeeds and all the other bonus exercises that\n",
      ">autoloaders give you, that is.\n",
      ">\n",
      ">Every gun has its safe moment and its dangerous moment.  If you just learn how\n",
      ">to handle it, it becomes a lot less dangerous (to you).\n",
      ">--\n",
      ">Dillon Pyron                      | The opinions expressed are those of the\n",
      ">TI/DSEG Lewisville VAX Support    | sender unless otherwise stated.\n",
      ">(214)462-3556 (when I'm here)     |\n",
      ">(214)492-4656 (when I'm home)     |Texans: Vote NO on Robin Hood.  We need\n",
      ">pyron@skndiv.dseg.ti.com          |solutions, not gestures.\n",
      ">PADI DM-54909                     |\n",
      ">\n",
      "\n",
      "All very true.  I'm going on what I have read and heard from friends.\n",
      "Basically the Glock is great but I have heard/read that it is a lot harder to\n",
      "learn proper handling because of the type of safety that it has.  I was\n",
      "looking at a Glock .40S&W and the S&W 4006 a couple of weeks ago and the\n",
      "safties on the guns were very different.  The saftey on the 4006 seemed a lot\n",
      "more \"safe\"  (for lack of a better word) than the one on the Glock.  Of course\n",
      "this could also be a bad thing if you were to pull the gun on somebody.  You\n",
      "would spend more time fiddling around turning the safety off.  Personally I\n",
      "like the Glocks because they are very light and I think they look really cool\n",
      "(guess that's why they use them in so many movies) but I wouldn't get one as\n",
      "my first semi-auto because of the safety.  I would prefer more training with\n",
      "a \"traditional\" semi-auto (ala Colt .45) but of course that's just my opinion.\n",
      "\n",
      "Jason\n",
      "\n",
      "==============================================================================\n",
      "Actual  : talk.politics.guns\n",
      "Predict : talk.politics.guns\n"
     ]
    }
   ],
   "source": [
    "print(test_news_df.loc[7, 'News'])\n",
    "print('=' * 78)\n",
    "print('Actual  : {}'.format(test_news_df_a.loc[7, 'Target']))\n",
    "print('Predict : {}'.format(le.inverse_transform(pipe_model_4.predict(X_test)[7])))"
   ]
  },
  {
   "cell_type": "markdown",
   "metadata": {},
   "source": [
    "* Test Data로 모델에 예측시켰을 때 모델이 예측한 Class는 어떤 것이라고 예측할 확률이 가장 높은지 시각화\n",
    "    * 모델에 test_data를 적용시켰을 때 8번째 뉴스는 Class가 16(talk.politics.guns)일 확률이 가장 높을 것이라고 예측 "
   ]
  },
  {
   "cell_type": "code",
   "execution_count": 30,
   "metadata": {},
   "outputs": [
    {
     "data": {
      "image/png": "[encoded data removed]",
      "text/plain": [
       "<matplotlib.figure.Figure at 0xdd1beb8>"
      ]
     },
     "metadata": {},
     "output_type": "display_data"
    }
   ],
   "source": [
    "def drawing_plot(model, test_data):\n",
    "    plt.subplot(211)                                                       # 2 X 1 Plot의 첫번째 subplot\n",
    "    sns.barplot(x=model.classes_, y=model.predict_proba(test_data)[7])     # 각 클래스별 예측 확률 표시\n",
    "    plt.xlim(-1, 20)                                                       # X축 범위 -1 ~ 20으로\n",
    "    plt.xticks(model.classes_)                                             # 플롯이나 차트에서 축상의 위치 표시 지점 = 클래스로 지정\n",
    "    plt.title('News Prediction Probability')\n",
    "    plt.xlabel('Class')\n",
    "    plt.ylabel('Probability')\n",
    "    plt.subplot(212)                                                       # 2 X 1 Plot의 두번째 subplot\n",
    "    sns.barplot(x=model.classes_, y=model.predict_log_proba(test_data)[7]) #확률에 자연로그를 씌워줌 \n",
    "    plt.xlim(-1, 20)\n",
    "    plt.xticks(model.classes_)\n",
    "    plt.title('News Predicition Natural Log Probability')\n",
    "    plt.xlabel('Class')\n",
    "    plt.ylabel('Natural Log Probability')\n",
    "    plt.tight_layout()\n",
    "    plt.show()\n",
    "drawing_plot(final_clf, X_test)"
   ]
  },
  {
   "cell_type": "code",
   "execution_count": 31,
   "metadata": {},
   "outputs": [
    {
     "data": {
      "text/plain": [
       "'talk.politics.guns'"
      ]
     },
     "execution_count": 31,
     "metadata": {},
     "output_type": "execute_result"
    }
   ],
   "source": [
    "article_species[16]"
   ]
  }
 ],
 "metadata": {
  "kernelspec": {
   "display_name": "Python 3",
   "language": "python",
   "name": "python3"
  },
  "language_info": {
   "codemirror_mode": {
    "name": "ipython",
    "version": 3
   },
   "file_extension": ".py",
   "mimetype": "text/x-python",
   "name": "python",
   "nbconvert_exporter": "python",
   "pygments_lexer": "ipython3",
   "version": "3.5.3"
  }
 },
 "nbformat": 4,
 "nbformat_minor": 2
}
